{
  "cells": [
    {
      "cell_type": "code",
      "execution_count": null,
      "metadata": {
        "id": "yH2bD3JN1Qww"
      },
      "outputs": [],
      "source": [
        "#route -> caminho\n",
        "#funcao -> que sera exibida"
      ]
    },
    {
      "cell_type": "code",
      "execution_count": null,
      "metadata": {
        "colab": {
          "base_uri": "https://localhost:8080/"
        },
        "id": "Yz1aXQaNaiFG",
        "outputId": "9aefb2af-ca96-4571-af10-b9145dd5cb47"
      },
      "outputs": [],
      "source": [
        "pip install Flask\n"
      ]
    },
    {
      "cell_type": "code",
      "execution_count": 4,
      "metadata": {
        "id": "jWFz1YNfapz2"
      },
      "outputs": [],
      "source": [
        "from flask import Flask, render_template\n",
        "#render_template permite colcar as paginas como return dos def, ele ja procura pela por uma pagina chamda 'templates', por isso dá pra por direto o nome sa pagina, sem indicar o endereço inteiro"
      ]
    },
    {
      "cell_type": "markdown",
      "metadata": {
        "id": "DfQ581f14G5T"
      },
      "source": []
    },
    {
      "cell_type": "code",
      "execution_count": 5,
      "metadata": {
        "id": "J28Yu-qcatng"
      },
      "outputs": [],
      "source": [
        "app = Flask(__name__)"
      ]
    },
    {
      "cell_type": "code",
      "execution_count": 6,
      "metadata": {
        "id": "p4iqOQBq1lxu"
      },
      "outputs": [],
      "source": [
        "@app.route(\"/\")\n",
        "def homepaeg():\n",
        "  return render_template(\"homepage.html\")"
      ]
    },
    {
      "cell_type": "code",
      "execution_count": 9,
      "metadata": {},
      "outputs": [],
      "source": [
        "@app.route(\"/contatos\")\n",
        "def contatos():\n",
        "    return render_template(\"contatos.html\")"
      ]
    },
    {
      "cell_type": "code",
      "execution_count": 11,
      "metadata": {},
      "outputs": [],
      "source": [
        "@app.route(\"/usuarios/<nome_usuario>\")\n",
        "def usuarios(nome_usuario):\n",
        "    return render_template(\"usuarios.html\", nome_usuario=nome_usuario)"
      ]
    },
    {
      "cell_type": "code",
      "execution_count": null,
      "metadata": {},
      "outputs": [],
      "source": [
        "#colocar o site no ar\n",
        "if __name__ == \"__main__\":\n",
        "  app.run(debug=True) #o debug é para nao ter que ficar rodando o tempo inteiro"
      ]
    }
  ],
  "metadata": {
    "colab": {
      "provenance": []
    },
    "kernelspec": {
      "display_name": "Python 3",
      "name": "python3"
    },
    "language_info": {
      "codemirror_mode": {
        "name": "ipython",
        "version": 3
      },
      "file_extension": ".py",
      "mimetype": "text/x-python",
      "name": "python",
      "nbconvert_exporter": "python",
      "pygments_lexer": "ipython3",
      "version": "3.11.6"
    }
  },
  "nbformat": 4,
  "nbformat_minor": 0
}
